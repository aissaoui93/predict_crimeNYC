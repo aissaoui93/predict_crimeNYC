{
 "cells": [
  {
   "cell_type": "code",
   "execution_count": 24,
   "metadata": {
    "collapsed": true
   },
   "outputs": [],
   "source": [
    "import pandas as pd\n",
    "import matplotlib.pyplot as plt\n",
    "\n",
    "% matplotlib inline"
   ]
  },
  {
   "cell_type": "code",
   "execution_count": 100,
   "metadata": {
    "collapsed": false
   },
   "outputs": [
    {
     "name": "stderr",
     "output_type": "stream",
     "text": [
      "/Library/Frameworks/Python.framework/Versions/3.5/lib/python3.5/site-packages/IPython/core/interactiveshell.py:2698: DtypeWarning: Columns (17) have mixed types. Specify dtype option on import or set low_memory=False.\n",
      "  interactivity=interactivity, compiler=compiler, result=result)\n"
     ]
    }
   ],
   "source": [
    "crimes = pd.read_csv('data/NYPD_Complaint_Data_Historic.csv')\n",
    "population = pd.read_csv('data/Population_by_Borough_NYC.csv')\n",
    "census = pd.read_csv('data/nyc_census_tracts.csv')"
   ]
  },
  {
   "cell_type": "code",
   "execution_count": 65,
   "metadata": {
    "collapsed": false
   },
   "outputs": [
    {
     "data": {
      "text/html": [
       "<div>\n",
       "<style scoped>\n",
       "    .dataframe tbody tr th:only-of-type {\n",
       "        vertical-align: middle;\n",
       "    }\n",
       "\n",
       "    .dataframe tbody tr th {\n",
       "        vertical-align: top;\n",
       "    }\n",
       "\n",
       "    .dataframe thead th {\n",
       "        text-align: right;\n",
       "    }\n",
       "</style>\n",
       "<table border=\"1\" class=\"dataframe\">\n",
       "  <thead>\n",
       "    <tr style=\"text-align: right;\">\n",
       "      <th></th>\n",
       "      <th>CMPLNT_NUM</th>\n",
       "      <th>CMPLNT_FR_DT</th>\n",
       "      <th>CMPLNT_FR_TM</th>\n",
       "      <th>CMPLNT_TO_DT</th>\n",
       "      <th>CMPLNT_TO_TM</th>\n",
       "      <th>RPT_DT</th>\n",
       "      <th>KY_CD</th>\n",
       "      <th>OFNS_DESC</th>\n",
       "      <th>PD_CD</th>\n",
       "      <th>PD_DESC</th>\n",
       "      <th>...</th>\n",
       "      <th>ADDR_PCT_CD</th>\n",
       "      <th>LOC_OF_OCCUR_DESC</th>\n",
       "      <th>PREM_TYP_DESC</th>\n",
       "      <th>PARKS_NM</th>\n",
       "      <th>HADEVELOPT</th>\n",
       "      <th>X_COORD_CD</th>\n",
       "      <th>Y_COORD_CD</th>\n",
       "      <th>Latitude</th>\n",
       "      <th>Longitude</th>\n",
       "      <th>Lat_Lon</th>\n",
       "    </tr>\n",
       "  </thead>\n",
       "  <tbody>\n",
       "    <tr>\n",
       "      <th>0</th>\n",
       "      <td>101109527</td>\n",
       "      <td>12/31/2015</td>\n",
       "      <td>23:45:00</td>\n",
       "      <td>NaN</td>\n",
       "      <td>NaN</td>\n",
       "      <td>12/31/2015</td>\n",
       "      <td>113</td>\n",
       "      <td>FORGERY</td>\n",
       "      <td>729.0</td>\n",
       "      <td>FORGERY,ETC.,UNCLASSIFIED-FELO</td>\n",
       "      <td>...</td>\n",
       "      <td>44.0</td>\n",
       "      <td>INSIDE</td>\n",
       "      <td>BAR/NIGHT CLUB</td>\n",
       "      <td>NaN</td>\n",
       "      <td>NaN</td>\n",
       "      <td>1007314.0</td>\n",
       "      <td>241257.0</td>\n",
       "      <td>40.828848</td>\n",
       "      <td>-73.916661</td>\n",
       "      <td>(40.828848333, -73.916661142)</td>\n",
       "    </tr>\n",
       "    <tr>\n",
       "      <th>1</th>\n",
       "      <td>153401121</td>\n",
       "      <td>12/31/2015</td>\n",
       "      <td>23:36:00</td>\n",
       "      <td>NaN</td>\n",
       "      <td>NaN</td>\n",
       "      <td>12/31/2015</td>\n",
       "      <td>101</td>\n",
       "      <td>MURDER &amp; NON-NEGL. MANSLAUGHTER</td>\n",
       "      <td>NaN</td>\n",
       "      <td>NaN</td>\n",
       "      <td>...</td>\n",
       "      <td>103.0</td>\n",
       "      <td>OUTSIDE</td>\n",
       "      <td>NaN</td>\n",
       "      <td>NaN</td>\n",
       "      <td>NaN</td>\n",
       "      <td>1043991.0</td>\n",
       "      <td>193406.0</td>\n",
       "      <td>40.697338</td>\n",
       "      <td>-73.784557</td>\n",
       "      <td>(40.697338138, -73.784556739)</td>\n",
       "    </tr>\n",
       "    <tr>\n",
       "      <th>2</th>\n",
       "      <td>569369778</td>\n",
       "      <td>12/31/2015</td>\n",
       "      <td>23:30:00</td>\n",
       "      <td>NaN</td>\n",
       "      <td>NaN</td>\n",
       "      <td>12/31/2015</td>\n",
       "      <td>117</td>\n",
       "      <td>DANGEROUS DRUGS</td>\n",
       "      <td>503.0</td>\n",
       "      <td>CONTROLLED SUBSTANCE,INTENT TO</td>\n",
       "      <td>...</td>\n",
       "      <td>28.0</td>\n",
       "      <td>NaN</td>\n",
       "      <td>OTHER</td>\n",
       "      <td>NaN</td>\n",
       "      <td>NaN</td>\n",
       "      <td>999463.0</td>\n",
       "      <td>231690.0</td>\n",
       "      <td>40.802607</td>\n",
       "      <td>-73.945052</td>\n",
       "      <td>(40.802606608, -73.945051911)</td>\n",
       "    </tr>\n",
       "    <tr>\n",
       "      <th>3</th>\n",
       "      <td>968417082</td>\n",
       "      <td>12/31/2015</td>\n",
       "      <td>23:30:00</td>\n",
       "      <td>NaN</td>\n",
       "      <td>NaN</td>\n",
       "      <td>12/31/2015</td>\n",
       "      <td>344</td>\n",
       "      <td>ASSAULT 3 &amp; RELATED OFFENSES</td>\n",
       "      <td>101.0</td>\n",
       "      <td>ASSAULT 3</td>\n",
       "      <td>...</td>\n",
       "      <td>105.0</td>\n",
       "      <td>INSIDE</td>\n",
       "      <td>RESIDENCE-HOUSE</td>\n",
       "      <td>NaN</td>\n",
       "      <td>NaN</td>\n",
       "      <td>1060183.0</td>\n",
       "      <td>177862.0</td>\n",
       "      <td>40.654549</td>\n",
       "      <td>-73.726339</td>\n",
       "      <td>(40.654549444, -73.726338791)</td>\n",
       "    </tr>\n",
       "    <tr>\n",
       "      <th>4</th>\n",
       "      <td>641637920</td>\n",
       "      <td>12/31/2015</td>\n",
       "      <td>23:25:00</td>\n",
       "      <td>12/31/2015</td>\n",
       "      <td>23:30:00</td>\n",
       "      <td>12/31/2015</td>\n",
       "      <td>344</td>\n",
       "      <td>ASSAULT 3 &amp; RELATED OFFENSES</td>\n",
       "      <td>101.0</td>\n",
       "      <td>ASSAULT 3</td>\n",
       "      <td>...</td>\n",
       "      <td>13.0</td>\n",
       "      <td>FRONT OF</td>\n",
       "      <td>OTHER</td>\n",
       "      <td>NaN</td>\n",
       "      <td>NaN</td>\n",
       "      <td>987606.0</td>\n",
       "      <td>208148.0</td>\n",
       "      <td>40.738002</td>\n",
       "      <td>-73.987891</td>\n",
       "      <td>(40.7380024, -73.98789129)</td>\n",
       "    </tr>\n",
       "  </tbody>\n",
       "</table>\n",
       "<p>5 rows × 24 columns</p>\n",
       "</div>"
      ],
      "text/plain": [
       "   CMPLNT_NUM CMPLNT_FR_DT CMPLNT_FR_TM CMPLNT_TO_DT CMPLNT_TO_TM      RPT_DT  \\\n",
       "0   101109527   12/31/2015     23:45:00          NaN          NaN  12/31/2015   \n",
       "1   153401121   12/31/2015     23:36:00          NaN          NaN  12/31/2015   \n",
       "2   569369778   12/31/2015     23:30:00          NaN          NaN  12/31/2015   \n",
       "3   968417082   12/31/2015     23:30:00          NaN          NaN  12/31/2015   \n",
       "4   641637920   12/31/2015     23:25:00   12/31/2015     23:30:00  12/31/2015   \n",
       "\n",
       "   KY_CD                        OFNS_DESC  PD_CD  \\\n",
       "0    113                          FORGERY  729.0   \n",
       "1    101  MURDER & NON-NEGL. MANSLAUGHTER    NaN   \n",
       "2    117                  DANGEROUS DRUGS  503.0   \n",
       "3    344     ASSAULT 3 & RELATED OFFENSES  101.0   \n",
       "4    344     ASSAULT 3 & RELATED OFFENSES  101.0   \n",
       "\n",
       "                          PD_DESC              ...               ADDR_PCT_CD  \\\n",
       "0  FORGERY,ETC.,UNCLASSIFIED-FELO              ...                      44.0   \n",
       "1                             NaN              ...                     103.0   \n",
       "2  CONTROLLED SUBSTANCE,INTENT TO              ...                      28.0   \n",
       "3                       ASSAULT 3              ...                     105.0   \n",
       "4                       ASSAULT 3              ...                      13.0   \n",
       "\n",
       "  LOC_OF_OCCUR_DESC    PREM_TYP_DESC PARKS_NM  HADEVELOPT X_COORD_CD  \\\n",
       "0            INSIDE   BAR/NIGHT CLUB      NaN         NaN  1007314.0   \n",
       "1           OUTSIDE              NaN      NaN         NaN  1043991.0   \n",
       "2               NaN            OTHER      NaN         NaN   999463.0   \n",
       "3            INSIDE  RESIDENCE-HOUSE      NaN         NaN  1060183.0   \n",
       "4          FRONT OF            OTHER      NaN         NaN   987606.0   \n",
       "\n",
       "  Y_COORD_CD   Latitude  Longitude                        Lat_Lon  \n",
       "0   241257.0  40.828848 -73.916661  (40.828848333, -73.916661142)  \n",
       "1   193406.0  40.697338 -73.784557  (40.697338138, -73.784556739)  \n",
       "2   231690.0  40.802607 -73.945052  (40.802606608, -73.945051911)  \n",
       "3   177862.0  40.654549 -73.726339  (40.654549444, -73.726338791)  \n",
       "4   208148.0  40.738002 -73.987891     (40.7380024, -73.98789129)  \n",
       "\n",
       "[5 rows x 24 columns]"
      ]
     },
     "execution_count": 65,
     "metadata": {},
     "output_type": "execute_result"
    }
   ],
   "source": [
    "crimes.head()"
   ]
  },
  {
   "cell_type": "code",
   "execution_count": 8,
   "metadata": {
    "collapsed": false
   },
   "outputs": [
    {
     "data": {
      "text/html": [
       "<div>\n",
       "<style scoped>\n",
       "    .dataframe tbody tr th:only-of-type {\n",
       "        vertical-align: middle;\n",
       "    }\n",
       "\n",
       "    .dataframe tbody tr th {\n",
       "        vertical-align: top;\n",
       "    }\n",
       "\n",
       "    .dataframe thead th {\n",
       "        text-align: right;\n",
       "    }\n",
       "</style>\n",
       "<table border=\"1\" class=\"dataframe\">\n",
       "  <thead>\n",
       "    <tr style=\"text-align: right;\">\n",
       "      <th></th>\n",
       "      <th>Age Group</th>\n",
       "      <th>Borough</th>\n",
       "      <th>1950</th>\n",
       "      <th>1950 - Boro share of NYC total</th>\n",
       "      <th>1960</th>\n",
       "      <th>1960 - Boro share of NYC total</th>\n",
       "      <th>1970</th>\n",
       "      <th>1970 - Boro share of NYC total</th>\n",
       "      <th>1980</th>\n",
       "      <th>1980 - Boro share of NYC total</th>\n",
       "      <th>...</th>\n",
       "      <th>2000</th>\n",
       "      <th>2000 - Boro share of NYC total</th>\n",
       "      <th>2010</th>\n",
       "      <th>2010 - Boro share of NYC total</th>\n",
       "      <th>2020</th>\n",
       "      <th>2020 - Boro share of NYC total</th>\n",
       "      <th>2030</th>\n",
       "      <th>2030 - Boro share of NYC total</th>\n",
       "      <th>2040</th>\n",
       "      <th>2040 - Boro share of NYC total</th>\n",
       "    </tr>\n",
       "  </thead>\n",
       "  <tbody>\n",
       "    <tr>\n",
       "      <th>0</th>\n",
       "      <td>Total Population</td>\n",
       "      <td>NYC Total</td>\n",
       "      <td>7,891,957</td>\n",
       "      <td>100%</td>\n",
       "      <td>7,781,984</td>\n",
       "      <td>100%</td>\n",
       "      <td>7,894,862</td>\n",
       "      <td>100%</td>\n",
       "      <td>7,071,639</td>\n",
       "      <td>100%</td>\n",
       "      <td>...</td>\n",
       "      <td>8,008,278</td>\n",
       "      <td>100%</td>\n",
       "      <td>8,242,624</td>\n",
       "      <td>100%</td>\n",
       "      <td>8,550,971</td>\n",
       "      <td>100%</td>\n",
       "      <td>8,821,027</td>\n",
       "      <td>100%</td>\n",
       "      <td>9,025,145</td>\n",
       "      <td>100%</td>\n",
       "    </tr>\n",
       "    <tr>\n",
       "      <th>1</th>\n",
       "      <td>Total Population</td>\n",
       "      <td>Bronx</td>\n",
       "      <td>1,451,277</td>\n",
       "      <td>18.39%</td>\n",
       "      <td>1,424,815</td>\n",
       "      <td>18.31%</td>\n",
       "      <td>1,471,701</td>\n",
       "      <td>18.64%</td>\n",
       "      <td>1,168,972</td>\n",
       "      <td>16.53%</td>\n",
       "      <td>...</td>\n",
       "      <td>1,332,650</td>\n",
       "      <td>16.64%</td>\n",
       "      <td>1,385,108</td>\n",
       "      <td>16.8%</td>\n",
       "      <td>1,446,788</td>\n",
       "      <td>16.92%</td>\n",
       "      <td>1,518,998</td>\n",
       "      <td>17.22%</td>\n",
       "      <td>1,579,245</td>\n",
       "      <td>17.5%</td>\n",
       "    </tr>\n",
       "    <tr>\n",
       "      <th>2</th>\n",
       "      <td>Total Population</td>\n",
       "      <td>Brooklyn</td>\n",
       "      <td>2,738,175</td>\n",
       "      <td>34.7%</td>\n",
       "      <td>2,627,319</td>\n",
       "      <td>33.76%</td>\n",
       "      <td>2,602,012</td>\n",
       "      <td>32.96%</td>\n",
       "      <td>2,230,936</td>\n",
       "      <td>31.55%</td>\n",
       "      <td>...</td>\n",
       "      <td>2,465,326</td>\n",
       "      <td>30.78%</td>\n",
       "      <td>2,552,911</td>\n",
       "      <td>30.97%</td>\n",
       "      <td>2,648,452</td>\n",
       "      <td>30.97%</td>\n",
       "      <td>2,754,009</td>\n",
       "      <td>31.22%</td>\n",
       "      <td>2,840,525</td>\n",
       "      <td>31.47%</td>\n",
       "    </tr>\n",
       "    <tr>\n",
       "      <th>3</th>\n",
       "      <td>Total Population</td>\n",
       "      <td>Manhattan</td>\n",
       "      <td>1,960,101</td>\n",
       "      <td>24.84%</td>\n",
       "      <td>1,698,281</td>\n",
       "      <td>21.82%</td>\n",
       "      <td>1,539,233</td>\n",
       "      <td>19.5%</td>\n",
       "      <td>1,428,285</td>\n",
       "      <td>20.2%</td>\n",
       "      <td>...</td>\n",
       "      <td>1,537,195</td>\n",
       "      <td>19.2%</td>\n",
       "      <td>1,585,873</td>\n",
       "      <td>19.24%</td>\n",
       "      <td>1,638,281</td>\n",
       "      <td>19.16%</td>\n",
       "      <td>1,676,720</td>\n",
       "      <td>19.01%</td>\n",
       "      <td>1,691,617</td>\n",
       "      <td>18.74%</td>\n",
       "    </tr>\n",
       "    <tr>\n",
       "      <th>4</th>\n",
       "      <td>Total Population</td>\n",
       "      <td>Queens</td>\n",
       "      <td>1,550,849</td>\n",
       "      <td>19.65%</td>\n",
       "      <td>1,809,578</td>\n",
       "      <td>23.25%</td>\n",
       "      <td>1,986,473</td>\n",
       "      <td>25.16%</td>\n",
       "      <td>1,891,325</td>\n",
       "      <td>26.75%</td>\n",
       "      <td>...</td>\n",
       "      <td>2,229,379</td>\n",
       "      <td>27.84%</td>\n",
       "      <td>2,250,002</td>\n",
       "      <td>27.3%</td>\n",
       "      <td>2,330,295</td>\n",
       "      <td>27.25%</td>\n",
       "      <td>2,373,551</td>\n",
       "      <td>26.91%</td>\n",
       "      <td>2,412,649</td>\n",
       "      <td>26.73%</td>\n",
       "    </tr>\n",
       "  </tbody>\n",
       "</table>\n",
       "<p>5 rows × 22 columns</p>\n",
       "</div>"
      ],
      "text/plain": [
       "          Age Group       Borough       1950 1950 - Boro share of NYC total  \\\n",
       "0  Total Population     NYC Total  7,891,957                           100%   \n",
       "1  Total Population         Bronx  1,451,277                         18.39%   \n",
       "2  Total Population      Brooklyn  2,738,175                          34.7%   \n",
       "3  Total Population     Manhattan  1,960,101                         24.84%   \n",
       "4  Total Population        Queens  1,550,849                         19.65%   \n",
       "\n",
       "        1960 1960 - Boro share of NYC total       1970  \\\n",
       "0  7,781,984                           100%  7,894,862   \n",
       "1  1,424,815                         18.31%  1,471,701   \n",
       "2  2,627,319                         33.76%  2,602,012   \n",
       "3  1,698,281                         21.82%  1,539,233   \n",
       "4  1,809,578                         23.25%  1,986,473   \n",
       "\n",
       "  1970 - Boro share of NYC total       1980 1980 - Boro share of NYC total  \\\n",
       "0                           100%  7,071,639                           100%   \n",
       "1                         18.64%  1,168,972                         16.53%   \n",
       "2                         32.96%  2,230,936                         31.55%   \n",
       "3                          19.5%  1,428,285                          20.2%   \n",
       "4                         25.16%  1,891,325                         26.75%   \n",
       "\n",
       "               ...                     2000 2000 - Boro share of NYC total  \\\n",
       "0              ...                8,008,278                           100%   \n",
       "1              ...                1,332,650                         16.64%   \n",
       "2              ...                2,465,326                         30.78%   \n",
       "3              ...                1,537,195                          19.2%   \n",
       "4              ...                2,229,379                         27.84%   \n",
       "\n",
       "        2010 2010 - Boro share of NYC total       2020  \\\n",
       "0  8,242,624                           100%  8,550,971   \n",
       "1  1,385,108                          16.8%  1,446,788   \n",
       "2  2,552,911                         30.97%  2,648,452   \n",
       "3  1,585,873                         19.24%  1,638,281   \n",
       "4  2,250,002                          27.3%  2,330,295   \n",
       "\n",
       "  2020 - Boro share of NYC total       2030 2030 - Boro share of NYC total  \\\n",
       "0                           100%  8,821,027                           100%   \n",
       "1                         16.92%  1,518,998                         17.22%   \n",
       "2                         30.97%  2,754,009                         31.22%   \n",
       "3                         19.16%  1,676,720                         19.01%   \n",
       "4                         27.25%  2,373,551                         26.91%   \n",
       "\n",
       "        2040 2040 - Boro share of NYC total  \n",
       "0  9,025,145                           100%  \n",
       "1  1,579,245                          17.5%  \n",
       "2  2,840,525                         31.47%  \n",
       "3  1,691,617                         18.74%  \n",
       "4  2,412,649                         26.73%  \n",
       "\n",
       "[5 rows x 22 columns]"
      ]
     },
     "execution_count": 8,
     "metadata": {},
     "output_type": "execute_result"
    }
   ],
   "source": [
    "population.head()"
   ]
  },
  {
   "cell_type": "code",
   "execution_count": 9,
   "metadata": {
    "collapsed": false
   },
   "outputs": [
    {
     "data": {
      "text/html": [
       "<div>\n",
       "<style scoped>\n",
       "    .dataframe tbody tr th:only-of-type {\n",
       "        vertical-align: middle;\n",
       "    }\n",
       "\n",
       "    .dataframe tbody tr th {\n",
       "        vertical-align: top;\n",
       "    }\n",
       "\n",
       "    .dataframe thead th {\n",
       "        text-align: right;\n",
       "    }\n",
       "</style>\n",
       "<table border=\"1\" class=\"dataframe\">\n",
       "  <thead>\n",
       "    <tr style=\"text-align: right;\">\n",
       "      <th></th>\n",
       "      <th>CensusTract</th>\n",
       "      <th>County</th>\n",
       "      <th>Borough</th>\n",
       "      <th>TotalPop</th>\n",
       "      <th>Men</th>\n",
       "      <th>Women</th>\n",
       "      <th>Hispanic</th>\n",
       "      <th>White</th>\n",
       "      <th>Black</th>\n",
       "      <th>Native</th>\n",
       "      <th>...</th>\n",
       "      <th>Walk</th>\n",
       "      <th>OtherTransp</th>\n",
       "      <th>WorkAtHome</th>\n",
       "      <th>MeanCommute</th>\n",
       "      <th>Employed</th>\n",
       "      <th>PrivateWork</th>\n",
       "      <th>PublicWork</th>\n",
       "      <th>SelfEmployed</th>\n",
       "      <th>FamilyWork</th>\n",
       "      <th>Unemployment</th>\n",
       "    </tr>\n",
       "  </thead>\n",
       "  <tbody>\n",
       "    <tr>\n",
       "      <th>0</th>\n",
       "      <td>36005000100</td>\n",
       "      <td>Bronx</td>\n",
       "      <td>Bronx</td>\n",
       "      <td>7703</td>\n",
       "      <td>7133</td>\n",
       "      <td>570</td>\n",
       "      <td>29.9</td>\n",
       "      <td>6.1</td>\n",
       "      <td>60.9</td>\n",
       "      <td>0.2</td>\n",
       "      <td>...</td>\n",
       "      <td>NaN</td>\n",
       "      <td>NaN</td>\n",
       "      <td>NaN</td>\n",
       "      <td>NaN</td>\n",
       "      <td>0</td>\n",
       "      <td>NaN</td>\n",
       "      <td>NaN</td>\n",
       "      <td>NaN</td>\n",
       "      <td>NaN</td>\n",
       "      <td>NaN</td>\n",
       "    </tr>\n",
       "    <tr>\n",
       "      <th>1</th>\n",
       "      <td>36005000200</td>\n",
       "      <td>Bronx</td>\n",
       "      <td>Bronx</td>\n",
       "      <td>5403</td>\n",
       "      <td>2659</td>\n",
       "      <td>2744</td>\n",
       "      <td>75.8</td>\n",
       "      <td>2.3</td>\n",
       "      <td>16.0</td>\n",
       "      <td>0.0</td>\n",
       "      <td>...</td>\n",
       "      <td>2.9</td>\n",
       "      <td>0.0</td>\n",
       "      <td>0.0</td>\n",
       "      <td>43.0</td>\n",
       "      <td>2308</td>\n",
       "      <td>80.8</td>\n",
       "      <td>16.2</td>\n",
       "      <td>2.9</td>\n",
       "      <td>0.0</td>\n",
       "      <td>7.7</td>\n",
       "    </tr>\n",
       "    <tr>\n",
       "      <th>2</th>\n",
       "      <td>36005000400</td>\n",
       "      <td>Bronx</td>\n",
       "      <td>Bronx</td>\n",
       "      <td>5915</td>\n",
       "      <td>2896</td>\n",
       "      <td>3019</td>\n",
       "      <td>62.7</td>\n",
       "      <td>3.6</td>\n",
       "      <td>30.7</td>\n",
       "      <td>0.0</td>\n",
       "      <td>...</td>\n",
       "      <td>1.4</td>\n",
       "      <td>0.5</td>\n",
       "      <td>2.1</td>\n",
       "      <td>45.0</td>\n",
       "      <td>2675</td>\n",
       "      <td>71.7</td>\n",
       "      <td>25.3</td>\n",
       "      <td>2.5</td>\n",
       "      <td>0.6</td>\n",
       "      <td>9.5</td>\n",
       "    </tr>\n",
       "    <tr>\n",
       "      <th>3</th>\n",
       "      <td>36005001600</td>\n",
       "      <td>Bronx</td>\n",
       "      <td>Bronx</td>\n",
       "      <td>5879</td>\n",
       "      <td>2558</td>\n",
       "      <td>3321</td>\n",
       "      <td>65.1</td>\n",
       "      <td>1.6</td>\n",
       "      <td>32.4</td>\n",
       "      <td>0.0</td>\n",
       "      <td>...</td>\n",
       "      <td>8.6</td>\n",
       "      <td>1.6</td>\n",
       "      <td>1.7</td>\n",
       "      <td>38.8</td>\n",
       "      <td>2120</td>\n",
       "      <td>75.0</td>\n",
       "      <td>21.3</td>\n",
       "      <td>3.8</td>\n",
       "      <td>0.0</td>\n",
       "      <td>8.7</td>\n",
       "    </tr>\n",
       "    <tr>\n",
       "      <th>4</th>\n",
       "      <td>36005001900</td>\n",
       "      <td>Bronx</td>\n",
       "      <td>Bronx</td>\n",
       "      <td>2591</td>\n",
       "      <td>1206</td>\n",
       "      <td>1385</td>\n",
       "      <td>55.4</td>\n",
       "      <td>9.0</td>\n",
       "      <td>29.0</td>\n",
       "      <td>0.0</td>\n",
       "      <td>...</td>\n",
       "      <td>3.0</td>\n",
       "      <td>2.4</td>\n",
       "      <td>6.2</td>\n",
       "      <td>45.4</td>\n",
       "      <td>1083</td>\n",
       "      <td>76.8</td>\n",
       "      <td>15.5</td>\n",
       "      <td>7.7</td>\n",
       "      <td>0.0</td>\n",
       "      <td>19.2</td>\n",
       "    </tr>\n",
       "  </tbody>\n",
       "</table>\n",
       "<p>5 rows × 36 columns</p>\n",
       "</div>"
      ],
      "text/plain": [
       "   CensusTract County Borough  TotalPop   Men  Women  Hispanic  White  Black  \\\n",
       "0  36005000100  Bronx   Bronx      7703  7133    570      29.9    6.1   60.9   \n",
       "1  36005000200  Bronx   Bronx      5403  2659   2744      75.8    2.3   16.0   \n",
       "2  36005000400  Bronx   Bronx      5915  2896   3019      62.7    3.6   30.7   \n",
       "3  36005001600  Bronx   Bronx      5879  2558   3321      65.1    1.6   32.4   \n",
       "4  36005001900  Bronx   Bronx      2591  1206   1385      55.4    9.0   29.0   \n",
       "\n",
       "   Native      ...       Walk  OtherTransp  WorkAtHome  MeanCommute  Employed  \\\n",
       "0     0.2      ...        NaN          NaN         NaN          NaN         0   \n",
       "1     0.0      ...        2.9          0.0         0.0         43.0      2308   \n",
       "2     0.0      ...        1.4          0.5         2.1         45.0      2675   \n",
       "3     0.0      ...        8.6          1.6         1.7         38.8      2120   \n",
       "4     0.0      ...        3.0          2.4         6.2         45.4      1083   \n",
       "\n",
       "   PrivateWork  PublicWork  SelfEmployed  FamilyWork  Unemployment  \n",
       "0          NaN         NaN           NaN         NaN           NaN  \n",
       "1         80.8        16.2           2.9         0.0           7.7  \n",
       "2         71.7        25.3           2.5         0.6           9.5  \n",
       "3         75.0        21.3           3.8         0.0           8.7  \n",
       "4         76.8        15.5           7.7         0.0          19.2  \n",
       "\n",
       "[5 rows x 36 columns]"
      ]
     },
     "execution_count": 9,
     "metadata": {},
     "output_type": "execute_result"
    }
   ],
   "source": [
    "census.head()"
   ]
  },
  {
   "cell_type": "code",
   "execution_count": 25,
   "metadata": {
    "collapsed": false
   },
   "outputs": [
    {
     "name": "stdout",
     "output_type": "stream",
     "text": [
      "1117 types of crimes\n"
     ]
    },
    {
     "data": {
      "text/plain": [
       "<matplotlib.axes._subplots.AxesSubplot at 0x114195b70>"
      ]
     },
     "execution_count": 25,
     "metadata": {},
     "output_type": "execute_result"
    },
    {
     "data": {
      "image/png": "[encoded data removed]",
      "text/plain": [
       "<matplotlib.figure.Figure at 0x116ab31d0>"
      ]
     },
     "metadata": {},
     "output_type": "display_data"
    }
   ],
   "source": [
    "crimes[['PD_CD', 'PD_DESC']] # Crime type + description of type of offens\n",
    "print(\"{} types of crimes\".format(len(set(crimes['PD_CD']))))\n",
    "plt.title(\"Number of crimes per type\")\n",
    "crimes['PD_CD'].hist(bins=len(set(crimes['PD_CD'])))"
   ]
  },
  {
   "cell_type": "code",
   "execution_count": 73,
   "metadata": {
    "collapsed": false,
    "scrolled": true
   },
   "outputs": [
    {
     "name": "stdout",
     "output_type": "stream",
     "text": [
      "10/17/1015\n",
      "09/16/1015\n",
      "09/26/1015\n",
      "10/27/1015\n",
      "12/04/1015\n",
      "11/25/1015\n"
     ]
    }
   ],
   "source": [
    "\"\"\"\n",
    "Some dates were mistakenly registered in 1015. Those crimes probably happened in 2015\n",
    "Let's drop them\n",
    "\"\"\"\n",
    "for elem in set(crimes['CMPLNT_FR_DT']):\n",
    "    try:\n",
    "        pd.to_datetime(elem)\n",
    "    except:\n",
    "        print(elem)\n",
    "        \n",
    "crimes = crimes[~ crimes['CMPLNT_FR_DT'].str.contains('1015').fillna(False)]"
   ]
  },
  {
   "cell_type": "code",
   "execution_count": 74,
   "metadata": {
    "collapsed": false,
    "scrolled": true
   },
   "outputs": [],
   "source": [
    "# Let's create a timestamp\n",
    "crimes['Timestamp'] = pd.to_datetime(crimes['CMPLNT_FR_DT'] + ' ' + crimes['CMPLNT_FR_TM'], format=\"%m/%d/%Y %H:%M:%S\")"
   ]
  },
  {
   "cell_type": "code",
   "execution_count": 92,
   "metadata": {
    "collapsed": false
   },
   "outputs": [
    {
     "name": "stdout",
     "output_type": "stream",
     "text": [
      "2011-01-01 00:00:00 2015-12-31 23:45:00\n"
     ]
    }
   ],
   "source": [
    "# Description says crime report goes back 5 years let's only keep those values\n",
    "\n",
    "print(crimes['Timestamp'].min(), crimes['Timestamp'].max())\n",
    "crimes = crimes[crimes['Timestamp'] >= '01/01/2011']"
   ]
  },
  {
   "cell_type": "code",
   "execution_count": 93,
   "metadata": {
    "collapsed": false
   },
   "outputs": [
    {
     "data": {
      "text/plain": [
       "<matplotlib.axes._subplots.AxesSubplot at 0x1529d46a0>"
      ]
     },
     "execution_count": 93,
     "metadata": {},
     "output_type": "execute_result"
    },
    {
     "data": {
      "image/png": "[encoded data removed]",
      "text/plain": [
       "<matplotlib.figure.Figure at 0x1529aff98>"
      ]
     },
     "metadata": {},
     "output_type": "display_data"
    }
   ],
   "source": [
    "crimes[[\"Timestamp\"]].groupby(crimes[\"Timestamp\"].dt.month).count().plot(kind=\"bar\", \\\n",
    "                                                                         title=\"Count of crimes per month of the year\")"
   ]
  },
  {
   "cell_type": "code",
   "execution_count": 94,
   "metadata": {
    "collapsed": false
   },
   "outputs": [
    {
     "data": {
      "text/plain": [
       "<matplotlib.axes._subplots.AxesSubplot at 0x13091e198>"
      ]
     },
     "execution_count": 94,
     "metadata": {},
     "output_type": "execute_result"
    },
    {
     "data": {
      "image/png": "[encoded data removed]",
      "text/plain": [
       "<matplotlib.figure.Figure at 0x1308fe748>"
      ]
     },
     "metadata": {},
     "output_type": "display_data"
    }
   ],
   "source": [
    "crimes[[\"Timestamp\"]].groupby(crimes[\"Timestamp\"].dt.day).count().plot(kind=\"bar\", \\\n",
    "                                                                         title=\"Count of crimes per day of the week\")"
   ]
  },
  {
   "cell_type": "code",
   "execution_count": 96,
   "metadata": {
    "collapsed": false
   },
   "outputs": [
    {
     "data": {
      "text/plain": [
       "<matplotlib.axes._subplots.AxesSubplot at 0x154c07898>"
      ]
     },
     "execution_count": 96,
     "metadata": {},
     "output_type": "execute_result"
    },
    {
     "data": {
      "image/png": "[encoded data removed]",
      "text/plain": [
       "<matplotlib.figure.Figure at 0x138ca84e0>"
      ]
     },
     "metadata": {},
     "output_type": "display_data"
    }
   ],
   "source": [
    "crimes[[\"Timestamp\"]].groupby(crimes[\"Timestamp\"].dt.year).count().plot(kind=\"bar\", \\\n",
    "                                                                         title=\"Count of crimes per year\")\n",
    "\n",
    "# We should only keep data for 2014-2015..."
   ]
  },
  {
   "cell_type": "code",
   "execution_count": 97,
   "metadata": {
    "collapsed": false
   },
   "outputs": [
    {
     "data": {
      "text/plain": [
       "<matplotlib.axes._subplots.AxesSubplot at 0x131459c50>"
      ]
     },
     "execution_count": 97,
     "metadata": {},
     "output_type": "execute_result"
    },
    {
     "data": {
      "image/png": "[encoded data removed]",
      "text/plain": [
       "<matplotlib.figure.Figure at 0x13145b198>"
      ]
     },
     "metadata": {},
     "output_type": "display_data"
    }
   ],
   "source": [
    "crimes[[\"CMPLNT_FR_DT\"]].groupby([crimes[\"CMPLNT_FR_DT\"]]).count().plot()\n",
    "# High volatility"
   ]
  },
  {
   "cell_type": "code",
   "execution_count": null,
   "metadata": {
    "collapsed": true
   },
   "outputs": [],
   "source": []
  }
 ],
 "metadata": {
  "kernelspec": {
   "display_name": "Python 3",
   "language": "python",
   "name": "python3"
  },
  "language_info": {
   "codemirror_mode": {
    "name": "ipython",
    "version": 3
   },
   "file_extension": ".py",
   "mimetype": "text/x-python",
   "name": "python",
   "nbconvert_exporter": "python",
   "pygments_lexer": "ipython3",
   "version": "3.5.0"
  }
 },
 "nbformat": 4,
 "nbformat_minor": 0
}
